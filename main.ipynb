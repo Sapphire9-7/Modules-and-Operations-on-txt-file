{
 "cells": [
  {
   "cell_type": "code",
   "execution_count": 1,
   "metadata": {},
   "outputs": [
    {
     "name": "stdout",
     "output_type": "stream",
     "text": [
      "{'Ahmad': [78, 99, 88, 89, 60], 'Tareq': [90, 80, 95, 77, 76], 'Mahmoud': [90, 96, 99, 98, 100], 'Khaled': [50, 65, 77, 55, 87], 'Saba': [88, 90, 94, 77, 87]}\n"
     ]
    }
   ],
   "source": [
    "from Modules import functionsModule\n",
    "#create a dictionary with the names and marks values\n",
    "txt_file_path = \"C:/Users/User/Desktop/projects/Courses/The hope python & ML/Course assignments/LastPython.ipynb/data.txt\"\n",
    "result = functionsModule.readFile(txt_file_path)\n",
    "print(result)"
   ]
  },
  {
   "cell_type": "code",
   "execution_count": 2,
   "metadata": {},
   "outputs": [
    {
     "name": "stdout",
     "output_type": "stream",
     "text": [
      "{'Ahmad': 82.8, 'Tareq': 83.6, 'Mahmoud': 96.6, 'Khaled': 66.8, 'Saba': 87.2}\n",
      "{'MaxAvg': {'student_name': 'Mahmoud', 'value': 96.6}}\n"
     ]
    }
   ],
   "source": [
    "\"\"\"find the average of each list and print a dictionary that has each student name and the corresponding average \n",
    "of the student's marks list\"\"\"\n",
    "\n",
    "dic_output = {}\n",
    "\n",
    "avg_results1 = functionsModule.MaxAvgSTD(result)\n",
    "print(avg_results1)\n",
    "\n",
    "#find the largest avg and append to the final dictionary (dic_output)\n",
    "dic_output = {\"MaxAvg\": functionsModule.find_highest_value(avg_results1)}\n",
    "print(dic_output)"
   ]
  },
  {
   "cell_type": "code",
   "execution_count": 3,
   "metadata": {},
   "outputs": [
    {
     "name": "stdout",
     "output_type": "stream",
     "text": [
      "{'MaxAvg': {'student_name': 'Mahmoud', 'value': 96.6}, 'MinAvg': {'student_name': 'Khaled', 'value': 66.8}}\n"
     ]
    }
   ],
   "source": [
    "\"\"\"find the lowest average between the averages\"\"\"\n",
    "dic_output = {\n",
    "    \"MaxAvg\": functionsModule.find_highest_value(avg_results1),\n",
    "    \"MinAvg\": functionsModule.find_lowest_value(avg_results1)}\n",
    "print(dic_output)"
   ]
  },
  {
   "cell_type": "code",
   "execution_count": 4,
   "metadata": {},
   "outputs": [
    {
     "name": "stdout",
     "output_type": "stream",
     "text": [
      "{'MaxAvg': {'student_name': 'Mahmoud', 'value': 96.6}, 'MinAvg': {'student_name': 'Khaled', 'value': 66.8}, 'MaxValue': {'student_name': 'Mahmoud', 'value': 100}}\n"
     ]
    }
   ],
   "source": [
    "\"\"\"\n",
    "find the max value out of all the marks lists\n",
    "\"\"\"\n",
    "dic_output = {\n",
    "    \"MaxAvg\": functionsModule.find_highest_value(avg_results1),\n",
    "    \"MinAvg\": functionsModule.find_lowest_value(avg_results1),\n",
    "    \"MaxValue\": functionsModule.find_highest_mark(result),\n",
    "    }\n",
    "print(dic_output)\n",
    "\n",
    "\n"
   ]
  },
  {
   "cell_type": "code",
   "execution_count": 5,
   "metadata": {},
   "outputs": [
    {
     "name": "stdout",
     "output_type": "stream",
     "text": [
      "{'MaxAvg': {'student_name': 'Mahmoud', 'value': 96.6}, 'MinAvg': {'student_name': 'Khaled', 'value': 66.8}, 'MaxValue': {'student_name': 'Mahmoud', 'value': 100}, 'MinValue': {'student_name': 'Khaled', 'value': 50}}\n"
     ]
    }
   ],
   "source": [
    "\"\"\"\n",
    "find the min value out of all the marks lists\n",
    "\"\"\"\n",
    "dic_output = {\n",
    "    \"MaxAvg\": functionsModule.find_highest_value(avg_results1),\n",
    "    \"MinAvg\": functionsModule.find_lowest_value(avg_results1),\n",
    "    \"MaxValue\": functionsModule.find_highest_mark(result),\n",
    "    \"MinValue\": functionsModule.find_lowest_mark(result)\n",
    "    }\n",
    "print(dic_output)"
   ]
  },
  {
   "cell_type": "code",
   "execution_count": 6,
   "metadata": {},
   "outputs": [
    {
     "name": "stdout",
     "output_type": "stream",
     "text": [
      "{'MaxAvg': {'student_name': 'Mahmoud', 'value': 96.6}, 'MinAvg': {'student_name': 'Khaled', 'value': 66.8}, 'MaxValue': {'student_name': 'Mahmoud', 'value': 100}, 'MinValue': {'student_name': 'Khaled', 'value': 50}, 'Quartiles': {'Q1': 77.0, 'Q2': 88, 'Q3': 94.5}}\n"
     ]
    }
   ],
   "source": [
    "\"\"\"\n",
    "finding the Quartiles\n",
    "\"\"\"\n",
    "dic_output = {\n",
    "    \"MaxAvg\": functionsModule.find_highest_value(avg_results1),\n",
    "    \"MinAvg\": functionsModule.find_lowest_value(avg_results1),\n",
    "    \"MaxValue\": functionsModule.find_highest_mark(result),\n",
    "    \"MinValue\": functionsModule.find_lowest_mark(result),\n",
    "    \"Quartiles\": functionsModule.find_quartiles(result)\n",
    "    }\n",
    "print(dic_output)\n",
    "\n"
   ]
  },
  {
   "cell_type": "code",
   "execution_count": 7,
   "metadata": {},
   "outputs": [],
   "source": [
    "#finding IQR\n",
    "#merging the lists\n",
    "merged_list = []\n",
    "for i in result.values():\n",
    "    merged_list.extend(i)\n",
    "sorted_list = sorted(merged_list)\n",
    "\n",
    "dic_output = {\n",
    "    \"MaxAvg\": functionsModule.find_highest_value(avg_results1),\n",
    "    \"MinAvg\": functionsModule.find_lowest_value(avg_results1),\n",
    "    \"MaxValue\": functionsModule.find_highest_mark(result),\n",
    "    \"MinValue\": functionsModule.find_lowest_mark(result),\n",
    "    \"Quartiles\": functionsModule.find_quartiles(result),\n",
    "    \"IQR\": functionsModule.find_IQR(sorted_list)\n",
    "    }\n",
    "\n",
    "\n"
   ]
  },
  {
   "cell_type": "code",
   "execution_count": 8,
   "metadata": {},
   "outputs": [
    {
     "name": "stdout",
     "output_type": "stream",
     "text": [
      "{'MaxAvg': {'student_name': 'Mahmoud', 'value': 96.6}, 'MinAvg': {'student_name': 'Khaled', 'value': 66.8}, 'MaxValue': {'student_name': 'Mahmoud', 'value': 100}, 'MinValue': {'student_name': 'Khaled', 'value': 50}, 'Quartiles': {'Q1': 77.0, 'Q2': 88, 'Q3': 94.5}, 'IQR': 17, 'Standard Deviation': 13.620572675185137}\n"
     ]
    }
   ],
   "source": [
    "\"\"\"\n",
    "finding the standard deviation\n",
    "\"\"\"\n",
    "\n",
    "dic_output = {\n",
    "    \"MaxAvg\": functionsModule.find_highest_value(avg_results1),\n",
    "    \"MinAvg\": functionsModule.find_lowest_value(avg_results1),\n",
    "    \"MaxValue\": functionsModule.find_highest_mark(result),\n",
    "    \"MinValue\": functionsModule.find_lowest_mark(result),\n",
    "    \"Quartiles\": functionsModule.find_quartiles(result),\n",
    "    \"IQR\": functionsModule.find_IQR(sorted_list),\n",
    "    \"Standard Deviation\":functionsModule.find_std(sorted_list)\n",
    "    }\n",
    "print(dic_output)\n",
    "\n"
   ]
  },
  {
   "cell_type": "code",
   "execution_count": 9,
   "metadata": {},
   "outputs": [
    {
     "name": "stdout",
     "output_type": "stream",
     "text": [
      "{'MaxAvg': {'student_name': 'Mahmoud', 'value': 96.6}, 'MinAvg': {'student_name': 'Khaled', 'value': 66.8}, 'MaxValue': {'student_name': 'Mahmoud', 'value': 100}, 'MinValue': {'student_name': 'Khaled', 'value': 50}, 'Quartiles': {'Q1': 77.0, 'Q2': 88, 'Q3': 94.5}, 'IQR': 17, 'Standard Deviation': 13.620572675185137, 'most_freq_value': 90}\n"
     ]
    }
   ],
   "source": [
    "#finding the most common value in the merged list\n",
    "dic_output = {\n",
    "    \"MaxAvg\": functionsModule.find_highest_value(avg_results1),\n",
    "    \"MinAvg\": functionsModule.find_lowest_value(avg_results1),\n",
    "    \"MaxValue\": functionsModule.find_highest_mark(result),\n",
    "    \"MinValue\": functionsModule.find_lowest_mark(result),\n",
    "    \"Quartiles\": functionsModule.find_quartiles(result),\n",
    "    \"IQR\": functionsModule.find_IQR(sorted_list),\n",
    "    \"Standard Deviation\":functionsModule.find_std(sorted_list),\n",
    "    \"most_freq_value\":functionsModule.find_common(result)\n",
    "    }\n",
    "print(dic_output)"
   ]
  },
  {
   "cell_type": "code",
   "execution_count": 10,
   "metadata": {},
   "outputs": [],
   "source": [
    "#exporting as a JSON file\n",
    "import json\n",
    "\n",
    "with open('dic_output.json', 'w') as json_file:\n",
    "    json.dump(dic_output, json_file)"
   ]
  }
 ],
 "metadata": {
  "kernelspec": {
   "display_name": "Python 3",
   "language": "python",
   "name": "python3"
  },
  "language_info": {
   "codemirror_mode": {
    "name": "ipython",
    "version": 3
   },
   "file_extension": ".py",
   "mimetype": "text/x-python",
   "name": "python",
   "nbconvert_exporter": "python",
   "pygments_lexer": "ipython3",
   "version": "3.9.8"
  },
  "orig_nbformat": 4
 },
 "nbformat": 4,
 "nbformat_minor": 2
}
